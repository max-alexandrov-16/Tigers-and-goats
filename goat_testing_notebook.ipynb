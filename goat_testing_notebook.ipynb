{
 "cells": [
  {
   "cell_type": "code",
   "execution_count": 1,
   "metadata": {},
   "outputs": [],
   "source": [
    "from run_episode import run_episode\n",
    "from goat_agent import ActorCriticGoatAgent\n",
    "from goat_model import ActorModel,CriticModel\n"
   ]
  },
  {
   "cell_type": "code",
   "execution_count": 2,
   "metadata": {},
   "outputs": [
    {
     "name": "stderr",
     "output_type": "stream",
     "text": [
      "c:\\Users\\MaxA\\Desktop\\Bhag Chal\\goat_model.py:82: UserWarning: To copy construct from a tensor, it is recommended to use sourceTensor.clone().detach() or sourceTensor.clone().detach().requires_grad_(True), rather than torch.tensor(sourceTensor).\n",
      "  model_input = torch.tensor(model_input, dtype=torch.float32)\n"
     ]
    },
    {
     "name": "stdout",
     "output_type": "stream",
     "text": [
      "goats won 244 times out of 500 runs, which accounts for 48.8% of the runs\n",
      "goats lost 179 times out of 500 runs, which accounts for 35.8% of the runs\n"
     ]
    }
   ],
   "source": [
    "board_size = 3\n",
    "model = ActorModel(board_size)\n",
    "dummy_critic = CriticModel(board_size)\n",
    "goat_reward_scheme = {\"winning\": 0.5, \"losing\": -0.5}\n",
    "tiger_reward_scheme = {\"eating\": 2, \"winning\": 3, \"losing\": -3,\"no score\":-1}\n",
    "goat_agent = ActorCriticGoatAgent(model,dummy_critic,board_size,goat_reward_scheme,None)\n",
    "goat_agent.actor_load_model('weights/goat_weights/actor_model_v1_size_3.pth')\n",
    "number_of_test_runs = 500\n",
    "goat_wins_count = 0\n",
    "goat_losses_count = 0\n",
    "for run in range(number_of_test_runs):\n",
    "    _,_,goat_rewards,_,victor = run_episode(board_size,30,tiger_reward_scheme,goat_agent=goat_agent,verbose = False)\n",
    "    if victor == 'goats':\n",
    "        goat_wins_count += 1\n",
    "    elif victor == 'tigers':\n",
    "        goat_losses_count += 1\n",
    "print(f'goats won {goat_wins_count} times out of {number_of_test_runs} runs, which accounts for {goat_wins_count/number_of_test_runs*100}% of the runs')\n",
    "print(f'goats lost {goat_losses_count} times out of {number_of_test_runs} runs, which accounts for {goat_losses_count/number_of_test_runs*100}% of the runs')"
   ]
  },
  {
   "cell_type": "code",
   "execution_count": 9,
   "metadata": {},
   "outputs": [
    {
     "name": "stdout",
     "output_type": "stream",
     "text": [
      "goats won 30 times out of 500 runs, which accounts for 6.0% of the runs\n",
      "goats lost 334 times out of 500 runs, which accounts for 66.8% of the runs\n"
     ]
    }
   ],
   "source": [
    "random_goats_wins_count = 0\n",
    "random_tiger_wins_count = 0\n",
    "for run in range(number_of_test_runs):\n",
    "    _,_,goat_rewards,_,victor, = run_episode(board_size,30,tiger_reward_scheme,goat_agent=None,verbose = False)\n",
    "    if victor == 'goats':\n",
    "        random_goats_wins_count += 1\n",
    "    elif victor == 'tigers':\n",
    "        random_tiger_wins_count += 1\n",
    "\n",
    "print(f'goats won {random_goats_wins_count} times out of {number_of_test_runs} runs, which accounts for {random_goats_wins_count/number_of_test_runs*100}% of the runs')\n",
    "print(f'goats lost {random_tiger_wins_count} times out of {number_of_test_runs} runs, which accounts for {random_tiger_wins_count/number_of_test_runs*100}% of the runs')"
   ]
  }
 ],
 "metadata": {
  "kernelspec": {
   "display_name": "bag_chal",
   "language": "python",
   "name": "python3"
  },
  "language_info": {
   "codemirror_mode": {
    "name": "ipython",
    "version": 3
   },
   "file_extension": ".py",
   "mimetype": "text/x-python",
   "name": "python",
   "nbconvert_exporter": "python",
   "pygments_lexer": "ipython3",
   "version": "3.11.11"
  }
 },
 "nbformat": 4,
 "nbformat_minor": 2
}
