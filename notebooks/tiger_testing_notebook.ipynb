{
 "cells": [
  {
   "cell_type": "code",
   "execution_count": 1,
   "metadata": {},
   "outputs": [],
   "source": [
    "from run_episode import run_episode\n",
    "from tiger_agent import ActorCriticTigerAgent\n",
    "from tiger_env import TIGER_ENV\n",
    "from tiger_model import ActorModel, CriticModel"
   ]
  },
  {
   "cell_type": "code",
   "execution_count": null,
   "metadata": {},
   "outputs": [
    {
     "name": "stderr",
     "output_type": "stream",
     "text": [
      "c:\\Users\\MaxA\\Desktop\\Bhag Chal\\tiger_agent.py:322: FutureWarning: You are using `torch.load` with `weights_only=False` (the current default value), which uses the default pickle module implicitly. It is possible to construct malicious pickle data which will execute arbitrary code during unpickling (See https://github.com/pytorch/pytorch/blob/main/SECURITY.md#untrusted-models for more details). In a future release, the default value for `weights_only` will be flipped to `True`. This limits the functions that could be executed during unpickling. Arbitrary objects will no longer be allowed to be loaded via this mode unless they are explicitly allowlisted by the user via `torch.serialization.add_safe_globals`. We recommend you start setting `weights_only=True` for any use case where you don't have full control of the loaded file. Please open an issue on GitHub for any issues related to this experimental feature.\n",
      "  self.actor.load_state_dict(torch.load(model_path))\n"
     ]
    },
    {
     "name": "stdout",
     "output_type": "stream",
     "text": [
      "tiger won 409 times out of 500 runs, which accounts for 81.8% of the runs\n",
      "tiger lost 0 times out of 500 runs, which accounts for 0.0% of the runs\n"
     ]
    }
   ],
   "source": [
    "max_number_of_turns = 30\n",
    "size = 5\n",
    "reward_scheme = {\"eating\": 0.1, \"winning\": 0.5, \"losing\": -0.5, \"no score\": 0}\n",
    "\n",
    "\n",
    "# Initialize environment and models\n",
    "tiger_env = TIGER_ENV(size, max_number_of_turns, reward_scheme)\n",
    "actor_model = ActorModel(size)\n",
    "critic_model = CriticModel(size)\n",
    "tiger_agent = ActorCriticTigerAgent(actor_model, critic_model, tiger_env, size, reward_scheme, max_number_of_turns)\n",
    "tiger_agent.actor_load_model('weights\\Tiger_weights\\step_weights\\Actor/Actor_model_v0_size_5_run_156000.pth')\n",
    "number_of_test_runs = 500\n",
    "tiger_wins_count = 0\n",
    "tiger_losses_count = 0\n",
    "for run in range(number_of_test_runs):\n",
    "    _,_,_,tiger_rewards,victor, = run_episode(size,30,reward_scheme,tiger_agent=tiger_agent,verbose = False)\n",
    "    if victor == 'tigers':\n",
    "        tiger_wins_count += 1\n",
    "    elif victor == 'goats':\n",
    "        tiger_losses_count += 1\n",
    "    \n",
    "print(f'tiger won {tiger_wins_count} times out of {number_of_test_runs} runs, which accounts for {tiger_wins_count/number_of_test_runs*100}% of the runs')\n",
    "print(f'tiger lost {tiger_losses_count} times out of {number_of_test_runs} runs, which accounts for {tiger_losses_count/number_of_test_runs*100}% of the runs')"
   ]
  }
 ],
 "metadata": {
  "kernelspec": {
   "display_name": "bag_chal",
   "language": "python",
   "name": "python3"
  },
  "language_info": {
   "codemirror_mode": {
    "name": "ipython",
    "version": 3
   },
   "file_extension": ".py",
   "mimetype": "text/x-python",
   "name": "python",
   "nbconvert_exporter": "python",
   "pygments_lexer": "ipython3",
   "version": "3.11.11"
  }
 },
 "nbformat": 4,
 "nbformat_minor": 2
}
